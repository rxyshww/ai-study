{
 "cells": [
  {
   "cell_type": "code",
   "execution_count": null,
   "metadata": {},
   "outputs": [],
   "source": [
    "! pip install langchain_openai langchain_core -U"
   ]
  },
  {
   "cell_type": "markdown",
   "metadata": {},
   "source": [
    "# JSON Mode\n",
    "\n",
    "在普通llm调用中，生成的结果没法直接使用在程序中，因为程序一般需要和明确的数据结构交互，而大模型给出的结果往往是非结构化的。\n",
    "\n",
    "> 假设我们有一个获取获取某地天气的方法get_weather，当我们询问北京的天气时，需要让大模型从用户意图中提取出北京，再输出get_weather需要的格式，最后调用get_weather方法。\n",
    "\n",
    "```python\n",
    "def get_weather(params):\n",
    "    # 从字典中提取 location 参数\n",
    "    location = params.get('location')    \n",
    "    return location + \"的天气是晴天\"\n",
    "```"
   ]
  },
  {
   "cell_type": "code",
   "execution_count": null,
   "metadata": {},
   "outputs": [],
   "source": [
    "from langchain_core.prompts import ChatPromptTemplate\n",
    "from langchain_openai import ChatOpenAI\n",
    "from langchain.output_parsers.json import SimpleJsonOutputParser\n",
    "from google.colab import userdata\n",
    "\n",
    "import os\n",
    "\n",
    "os.environ[\"OPENAI_API_BASE\"] = userdata.get('OPENAI_API_BASE')\n",
    "os.environ[\"OPENAI_API_KEY\"] = userdata.get('OPENAI_API_KEY')\n",
    "\n",
    "def get_weather(params):\n",
    "    # 从字典中提取 location 参数\n",
    "    location = params.get('location')    \n",
    "    return location + \"的天气是晴天\"\n",
    "\n",
    "model = ChatOpenAI(\n",
    "    model=\"qwen2.5-72b-instruct\",\n",
    "    model_kwargs={ \"response_format\": { \"type\": \"json_object\" } },\n",
    ")\n",
    "\n",
    "prompt = ChatPromptTemplate.from_template(\n",
    "    \"获取用户问题中提到的城市\"\n",
    "    '你必须始终输出一个包含‘location’键 JSON 对象。'\n",
    "    \"用户问题：{question}\"\n",
    ")\n",
    "\n",
    "chain = prompt | model | SimpleJsonOutputParser()\n",
    "\n",
    "res = chain.invoke({ \"question\": \"北京的天气怎么样\" })\n",
    "\n",
    "print(res)\n",
    "print(type(res))\n",
    "print()\n",
    "print(get_weather(res))\n"
   ]
  }
 ],
 "metadata": {
  "kernelspec": {
   "display_name": "py3110",
   "language": "python",
   "name": "python3"
  },
  "language_info": {
   "codemirror_mode": {
    "name": "ipython",
    "version": 3
   },
   "file_extension": ".py",
   "mimetype": "text/x-python",
   "name": "python",
   "nbconvert_exporter": "python",
   "pygments_lexer": "ipython3",
   "version": "3.11.9"
  }
 },
 "nbformat": 4,
 "nbformat_minor": 2
}
