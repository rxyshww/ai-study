{
  "cells": [
    {
      "cell_type": "code",
      "execution_count": null,
      "metadata": {},
      "outputs": [],
      "source": [
        "! pip install langchain_openai langchain_community langchain_core chromadb -U"
      ]
    },
    {
      "cell_type": "code",
      "execution_count": 21,
      "metadata": {},
      "outputs": [
        {
          "name": "stdout",
          "output_type": "stream",
          "text": [
            "玉渊潭公园是国家AAAA旅游景区，建成绿地面积74.44公顷。\n"
          ]
        }
      ],
      "source": [
        "from langchain_openai import ChatOpenAI\n",
        "from langchain.schema import HumanMessage, SystemMessage\n",
        "from google.colab import userdata\n",
        "from langchain.text_splitter import RecursiveCharacterTextSplitter\n",
        "from langchain_community.document_loaders import WebBaseLoader\n",
        "from langchain_community.vectorstores import Chroma\n",
        "from langchain_openai import OpenAIEmbeddings\n",
        "\n",
        "import os\n",
        "\n",
        "os.environ[\"OPENAI_API_BASE\"] = userdata.get('OPENAI_API_BASE')\n",
        "os.environ[\"OPENAI_API_KEY\"] = userdata.get('OPENAI_API_KEY')\n",
        "\n",
        "def queryFromRag(question):\n",
        "    loader = WebBaseLoader(\n",
        "        web_path=\"https://baike.baidu.com/item/%E6%B5%B7%E6%B7%80%E5%8C%BA?fromtitle=%E6%B5%B7%E6%B7%80&fromid=5104876&fromModule=lemma_search-box\",\n",
        "    )\n",
        "\n",
        "    embedding = OpenAIEmbeddings(model=\"text-embedding-v2\", check_embedding_ctx_length=False, chunk_size=25)\n",
        "\n",
        "    docs = loader.load()\n",
        "    text_splitter = RecursiveCharacterTextSplitter(chunk_size=1000, chunk_overlap=200)\n",
        "    splits = text_splitter.split_documents(docs)\n",
        "\n",
        "    db = Chroma.from_documents(documents=splits, embedding=embedding)\n",
        "\n",
        "    retriever = db.as_retriever(search_type=\"similarity\", search_kwargs={\"k\": 2})\n",
        "    search = retriever.invoke(input=question)\n",
        "\n",
        "    search_str = \" \".join([doc.page_content for doc in search]) \n",
        "\n",
        "    llm = ChatOpenAI(model=\"qwen2.5-72b-instruct\", temperature=0)\n",
        "\n",
        "    res = llm.invoke([\n",
        "        SystemMessage(\"你是一个智能助手，请根据上下文回答问题，上下文是:\\n\" + search_str),\n",
        "        HumanMessage(question)\n",
        "    ])\n",
        "    \n",
        "    return res.content\n",
        "\n",
        "\n",
        "result = queryFromRag(\"玉渊潭公园，是几A景区，绿地面积是多少\")\n",
        "\n",
        "print(result)\n"
      ]
    }
  ],
  "metadata": {
    "kernelspec": {
      "display_name": "py3110",
      "language": "python",
      "name": "python3"
    },
    "language_info": {
      "codemirror_mode": {
        "name": "ipython",
        "version": 3
      },
      "file_extension": ".py",
      "mimetype": "text/x-python",
      "name": "python",
      "nbconvert_exporter": "python",
      "pygments_lexer": "ipython3",
      "version": "3.11.9"
    }
  },
  "nbformat": 4,
  "nbformat_minor": 2
}
