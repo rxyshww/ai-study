{
 "cells": [
  {
   "cell_type": "code",
   "execution_count": null,
   "metadata": {},
   "outputs": [],
   "source": [
    "! pip install langchain_openai langchain_community langchain_core -U"
   ]
  },
  {
   "cell_type": "code",
   "execution_count": null,
   "metadata": {},
   "outputs": [],
   "source": [
    "from langchain_community.tools import TavilySearchResults\n",
    "from langchain_openai import ChatOpenAI\n",
    "from langchain_core.messages import HumanMessage, SystemMessage\n",
    "from google.colab import userdata\n",
    "\n",
    "import os\n",
    "os.environ[\"OPENAI_API_BASE\"] = userdata.get('OPENAI_API_BASE')\n",
    "os.environ[\"OPENAI_API_KEY\"] = userdata.get('OPENAI_API_KEY')\n",
    "\n",
    "question = \"甘肃天水麻辣烫是什么时候火的，为什么会火\"\n",
    "\n",
    "llm = ChatOpenAI(model=\"qwen2-72b-instruct\", temperature=0)\n",
    "\n",
    "res = llm.invoke([\n",
    "    SystemMessage(\"你是一个智能助手\"),\n",
    "    HumanMessage(question)\n",
    "])\n",
    "\n",
    "print(res.content)"
   ]
  }
 ],
 "metadata": {
  "language_info": {
   "name": "python"
  }
 },
 "nbformat": 4,
 "nbformat_minor": 2
}
