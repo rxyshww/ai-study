{
 "cells": [
  {
   "cell_type": "code",
   "execution_count": 10,
   "metadata": {},
   "outputs": [
    {
     "data": {
      "text/plain": [
       "'你好！有什么我能帮助你的吗？'"
      ]
     },
     "execution_count": 10,
     "metadata": {},
     "output_type": "execute_result"
    }
   ],
   "source": [
    "from langchain_openai import ChatOpenAI\n",
    "from google.colab import userdata\n",
    "\n",
    "import os\n",
    "os.environ[\"OPENAI_API_BASE\"] = userdata.get('OPENAI_API_BASE')\n",
    "os.environ[\"OPENAI_API_KEY\"] = userdata.get('OPENAI_API_KEY')\n",
    "\n",
    "llm = ChatOpenAI(model=\"qwen2-72b-instruct\")\n",
    "\n",
    "def getRes(aiRes):\n",
    "    return aiRes.content\n",
    "\n",
    "llm = ChatOpenAI(model=\"qwen2-72b-instruct\")\n",
    "\n",
    "aiRes = llm.invoke(\"你好\")\n",
    "\n",
    "res = getRes(aiRes)\n",
    "res"
   ]
  },
  {
   "cell_type": "code",
   "execution_count": 9,
   "metadata": {},
   "outputs": [
    {
     "data": {
      "text/plain": [
       "'你好！有什么我能帮助你的吗？'"
      ]
     },
     "execution_count": 9,
     "metadata": {},
     "output_type": "execute_result"
    }
   ],
   "source": [
    "from langchain_openai import ChatOpenAI\n",
    "from google.colab import userdata\n",
    "\n",
    "import os\n",
    "os.environ[\"OPENAI_API_BASE\"] = userdata.get('OPENAI_API_BASE')\n",
    "os.environ[\"OPENAI_API_KEY\"] = userdata.get('OPENAI_API_KEY')\n",
    "\n",
    "llm = ChatOpenAI(model=\"qwen2-72b-instruct\")\n",
    "\n",
    "def getRes(aiRes):\n",
    "    return aiRes.content\n",
    "\n",
    "chain = llm | getRes\n",
    "\n",
    "\n",
    "res = chain.invoke(\"你好\")\n",
    "res"
   ]
  }
 ],
 "metadata": {
  "kernelspec": {
   "display_name": "py3110",
   "language": "python",
   "name": "python3"
  },
  "language_info": {
   "codemirror_mode": {
    "name": "ipython",
    "version": 3
   },
   "file_extension": ".py",
   "mimetype": "text/x-python",
   "name": "python",
   "nbconvert_exporter": "python",
   "pygments_lexer": "ipython3",
   "version": "3.11.9"
  }
 },
 "nbformat": 4,
 "nbformat_minor": 2
}
